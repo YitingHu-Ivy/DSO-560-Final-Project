{
 "cells": [
  {
   "cell_type": "code",
   "execution_count": 2,
   "id": "c680a713",
   "metadata": {},
   "outputs": [],
   "source": [
    "import pandas as pd\n",
    "import numpy as np"
   ]
  },
  {
   "cell_type": "code",
   "execution_count": 3,
   "id": "c4f2357a",
   "metadata": {},
   "outputs": [
    {
     "name": "stderr",
     "output_type": "stream",
     "text": [
      "C:\\Users\\wang-\\ML\\my_env\\lib\\site-packages\\IPython\\core\\interactiveshell.py:3441: DtypeWarning: Columns (11) have mixed types.Specify dtype option on import or set low_memory=False.\n",
      "  exec(code_obj, self.user_global_ns, self.user_ns)\n",
      "C:\\Users\\wang-\\ML\\my_env\\lib\\site-packages\\pandas\\core\\indexing.py:1773: SettingWithCopyWarning: \n",
      "A value is trying to be set on a copy of a slice from a DataFrame.\n",
      "Try using .loc[row_indexer,col_indexer] = value instead\n",
      "\n",
      "See the caveats in the documentation: https://pandas.pydata.org/pandas-docs/stable/user_guide/indexing.html#returning-a-view-versus-a-copy\n",
      "  self._setitem_single_column(ilocs[0], value, pi)\n"
     ]
    }
   ],
   "source": [
    "raw = pd.read_csv('review_data_subset.csv')\n",
    "data = raw[['verified', 'reviewText']]\n",
    "True_False = {False: 0, True: 1}\n",
    "data.replace({\"verified\": True_False}, inplace = True)\n",
    "corpus = data['reviewText'].values\n",
    "labels = data['verified'].values"
   ]
  },
  {
   "cell_type": "code",
   "execution_count": 6,
   "id": "0614b779",
   "metadata": {},
   "outputs": [],
   "source": [
    "X = pd.read_csv('vectorized_corpus.csv', index_col = 0)\n",
    "X = X.values"
   ]
  },
  {
   "cell_type": "code",
   "execution_count": 8,
   "id": "c01ad062",
   "metadata": {},
   "outputs": [],
   "source": [
    "df = pd.DataFrame(list(zip(labels, X)), columns = ['verified', 'vectorized_corpus'])"
   ]
  },
  {
   "cell_type": "code",
   "execution_count": 36,
   "id": "36f66f7d",
   "metadata": {},
   "outputs": [],
   "source": [
    "from sklearn.model_selection import train_test_split\n",
    "\n",
    "train, test = train_test_split(df)\n",
    "\n",
    "X_train = train.iloc[:, 1]\n",
    "X_test = test.iloc[:, 1]\n",
    "y_train = train.iloc[:, 0]\n",
    "y_test = test.iloc[:, 0]"
   ]
  },
  {
   "cell_type": "code",
   "execution_count": 63,
   "id": "d2578ab4",
   "metadata": {},
   "outputs": [],
   "source": [
    "# array of array incurs error with logistic regression. \n",
    "# need to apply the following transformation to X_test and X_train and make them multidimensional arrays.\n",
    "def series_to_array(series):\n",
    "    L = []\n",
    "    for i in series:\n",
    "        l = []\n",
    "        for a in i: \n",
    "            l.append(a)\n",
    "        L.append(l)\n",
    "    return np.array(L)"
   ]
  },
  {
   "cell_type": "code",
   "execution_count": 64,
   "id": "76bf96a8",
   "metadata": {},
   "outputs": [],
   "source": [
    "X_train_array = series_to_array(X_train)\n",
    "X_test_array = series_to_array(X_test)"
   ]
  },
  {
   "cell_type": "code",
   "execution_count": 66,
   "id": "d8de3224",
   "metadata": {
    "scrolled": true
   },
   "outputs": [
    {
     "data": {
      "text/plain": [
       "LogisticRegression(max_iter=1000)"
      ]
     },
     "execution_count": 66,
     "metadata": {},
     "output_type": "execute_result"
    }
   ],
   "source": [
    "from sklearn.linear_model import LogisticRegression\n",
    "\n",
    "lr = LogisticRegression(max_iter = 1000)\n",
    "lr.fit(X_train_array, y_train)"
   ]
  },
  {
   "cell_type": "code",
   "execution_count": 69,
   "id": "6032e5d6",
   "metadata": {
    "scrolled": true
   },
   "outputs": [
    {
     "data": {
      "text/plain": [
       "0.7791466666666667"
      ]
     },
     "execution_count": 69,
     "metadata": {},
     "output_type": "execute_result"
    }
   ],
   "source": [
    "y_pred = lr.predict(X_train_array)\n",
    "\n",
    "np.mean(y_pred == y_train)"
   ]
  },
  {
   "cell_type": "code",
   "execution_count": 70,
   "id": "0fc27ad2",
   "metadata": {},
   "outputs": [
    {
     "data": {
      "text/plain": [
       "array([[ 7197, 12816],\n",
       "       [ 3748, 51239]], dtype=int64)"
      ]
     },
     "execution_count": 70,
     "metadata": {},
     "output_type": "execute_result"
    }
   ],
   "source": [
    "from sklearn.metrics import confusion_matrix\n",
    "\n",
    "confusion_matrix(y_train, y_pred)"
   ]
  },
  {
   "cell_type": "code",
   "execution_count": 71,
   "id": "1cab3af8",
   "metadata": {},
   "outputs": [
    {
     "data": {
      "text/plain": [
       "0.6457273419884692"
      ]
     },
     "execution_count": 71,
     "metadata": {},
     "output_type": "execute_result"
    }
   ],
   "source": [
    "from sklearn.metrics import roc_auc_score\n",
    "roc_auc_score(y_train, y_pred)"
   ]
  },
  {
   "cell_type": "code",
   "execution_count": 78,
   "id": "503f6f58",
   "metadata": {},
   "outputs": [
    {
     "data": {
      "text/plain": [
       "LogisticRegression(max_iter=1000)"
      ]
     },
     "execution_count": 78,
     "metadata": {},
     "output_type": "execute_result"
    }
   ],
   "source": [
    "lr.fit(X_train_array, y_train)"
   ]
  },
  {
   "cell_type": "code",
   "execution_count": 79,
   "id": "b4253fb0",
   "metadata": {
    "scrolled": true
   },
   "outputs": [
    {
     "data": {
      "text/plain": [
       "0.775"
      ]
     },
     "execution_count": 79,
     "metadata": {},
     "output_type": "execute_result"
    }
   ],
   "source": [
    "y_pred = lr.predict(X_test_array)\n",
    "\n",
    "np.mean(y_pred == y_test)"
   ]
  },
  {
   "cell_type": "markdown",
   "id": "e85d7f0a",
   "metadata": {},
   "source": [
    "### Cross validation"
   ]
  },
  {
   "cell_type": "code",
   "execution_count": 82,
   "id": "408da4a6",
   "metadata": {},
   "outputs": [],
   "source": [
    "from sklearn.model_selection import cross_validate\n",
    "\n",
    "cv_results = cross_validate(lr, series_to_array(df['vectorized_corpus']), df['verified'], cv=10,return_train_score=False)"
   ]
  },
  {
   "cell_type": "code",
   "execution_count": 83,
   "id": "e05cb42c",
   "metadata": {},
   "outputs": [
    {
     "data": {
      "text/plain": [
       "{'fit_time': array([13.67145824, 11.56526184, 13.90373492, 13.67203355, 13.13864994,\n",
       "        13.1452899 , 11.66384983, 12.11314011, 12.64546061,  9.1454432 ]),\n",
       " 'score_time': array([0.00897551, 0.00797796, 0.00797772, 0.00797844, 0.01595926,\n",
       "        0.01695514, 0.00698233, 0.0079782 , 0.00797772, 0.00797915]),\n",
       " 'test_score': array([0.7751, 0.78  , 0.7812, 0.7784, 0.777 , 0.779 , 0.7779, 0.7703,\n",
       "        0.7755, 0.7802])}"
      ]
     },
     "execution_count": 83,
     "metadata": {},
     "output_type": "execute_result"
    }
   ],
   "source": [
    "cv_results"
   ]
  }
 ],
 "metadata": {
  "kernelspec": {
   "display_name": "Python 3 (ipykernel)",
   "language": "python",
   "name": "python3"
  },
  "language_info": {
   "codemirror_mode": {
    "name": "ipython",
    "version": 3
   },
   "file_extension": ".py",
   "mimetype": "text/x-python",
   "name": "python",
   "nbconvert_exporter": "python",
   "pygments_lexer": "ipython3",
   "version": "3.8.0"
  }
 },
 "nbformat": 4,
 "nbformat_minor": 5
}
